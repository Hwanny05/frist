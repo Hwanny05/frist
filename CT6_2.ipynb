{
  "nbformat": 4,
  "nbformat_minor": 0,
  "metadata": {
    "colab": {
      "provenance": [],
      "authorship_tag": "ABX9TyMVNWT9c300Vevpel/OLXr6",
      "include_colab_link": true
    },
    "kernelspec": {
      "name": "python3",
      "display_name": "Python 3"
    },
    "language_info": {
      "name": "python"
    }
  },
  "cells": [
    {
      "cell_type": "markdown",
      "metadata": {
        "id": "view-in-github",
        "colab_type": "text"
      },
      "source": [
        "<a href=\"https://colab.research.google.com/github/Hwanny05/frist/blob/main/CT6_2.ipynb\" target=\"_parent\"><img src=\"https://colab.research.google.com/assets/colab-badge.svg\" alt=\"Open In Colab\"/></a>"
      ]
    },
    {
      "cell_type": "code",
      "execution_count": null,
      "metadata": {
        "colab": {
          "base_uri": "https://localhost:8080/"
        },
        "id": "M_JnqCmDXB9h",
        "outputId": "5d425f53-2b87-4561-c830-b7796acce453"
      },
      "outputs": [
        {
          "output_type": "stream",
          "name": "stdout",
          "text": [
            "성적을 입력하세요.:100\n",
            "성적을 입력하세요.:100\n",
            "성적을 입력하세요.:100\n",
            "성적을 입력하세요.:100\n",
            "성적을 입력하세요.:100\n",
            "성적을 입력하세요.:100\n",
            "성적을 입력하세요.:100\n",
            "성적을 입력하세요.:100\n",
            "성적을 입력하세요.:100\n",
            "성적을 입력하세요.:100\n",
            "100.0\n"
          ]
        }
      ],
      "source": [
        "total=0                                      #현재까지의 학생의 점수 총합\n",
        "counter=1                                    #학생을 카운터 하는 수\n",
        "while counter <= 10:                         #카운터를 하는 총 학생의 수가 10보다 작다\n",
        "    grade=int(input(\"성적을 입력하세요.:\"));   #학생의 성적을 입력\n",
        "    total=grade+total;                        #현재까지 학생의 점수 총합 계산\n",
        "    counter=counter+1;                       #카운터 하는 학생의 순번\n",
        "average=total/10;                             #학생들의 점수의 평균을 구함\n",
        "print(average);                               #학생들의 점수 평균을 출력"
      ]
    }
  ]
}